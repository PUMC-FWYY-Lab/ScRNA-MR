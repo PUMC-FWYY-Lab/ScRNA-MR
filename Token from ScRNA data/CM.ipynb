{
 "cells": [
  {
   "cell_type": "code",
   "execution_count": 1,
   "id": "6dcf63ba-4848-4f34-9a8e-f1b1e0220370",
   "metadata": {},
   "outputs": [],
   "source": [
    "import pyarrow # must occur prior to ray import\n",
    "import ray\n",
    "from ray import tune\n",
    "from ray.tune import ExperimentAnalysis\n",
    "from ray.tune.search.hyperopt import HyperOptSearch\n",
    "import datetime\n",
    "import numpy as np\n",
    "import pandas as pd\n",
    "import random\n",
    "import seaborn as sns; sns.set()\n",
    "from collections import Counter\n",
    "from datasets import load_from_disk\n",
    "from scipy.stats import ranksums\n",
    "from sklearn.metrics import accuracy_score, f1_score\n",
    "from transformers import BertForSequenceClassification\n",
    "from transformers import Trainer\n",
    "from transformers.training_args import TrainingArguments\n",
    "\n",
    "from geneformer import DataCollatorForCellClassification\n",
    "from geneformer import TranscriptomeTokenizer\n",
    "import anndata as ad\n",
    "import pandas as pd"
   ]
  },
  {
   "cell_type": "code",
   "execution_count": 2,
   "id": "83443733-31fd-474e-8e52-6f7227418137",
   "metadata": {},
   "outputs": [],
   "source": [
    "file_path = \"/home/wangxihe/AF_atlas/Data/单细胞分析/HF心房心肌细胞/Atrial_ensembl.h5ad\"\n",
    "# 使用 read_h5ad 函数读取文件\n",
    "HLCA = ad.read_h5ad(file_path)"
   ]
  },
  {
   "cell_type": "code",
   "execution_count": 3,
   "id": "3e0d4a6e-4eb4-4190-b167-e90111150a78",
   "metadata": {},
   "outputs": [
    {
     "data": {
      "text/plain": [
       "AnnData object with n_obs × n_vars = 6289 × 31665\n",
       "    obs: 'orig.ident', 'nCount_RNA', 'nFeature_RNA', 'ID', 'Barcode', 'Type', 'Individual', 'Age', 'Gender', 'Dispense.Order', 'X384.Well.Plate.Location', 'Chip.Row.ID', 'Chip.Column.ID', 'Image.ID', 'Barcode.Read.Pairs', 'Distinct.UMIs', 'ERCC.Read.Pairs', 'Trimmed.Read.Pairs', 'NoContam.Read.Pairs', 'Mitochondria.Alignments', 'Mitochondria.Read.Pairs', 'Total.Barcode.Alignments', 'Distinct.Genes.w..Alignments', 'Distinct.Gene.UMI.Combos', 'Aligned', 'Assigned', 'Ambiguity', 'Chimera', 'Duplicate', 'FragementLength', 'MappingQuality', 'MultiMapping', 'NoFeatures', 'Nonjunction', 'Secondary', 'Unmapped', 'mito.perc', 'CellType', 'percent.mt', 'nCount_SCT', 'nFeature_SCT', 'SCT_snn_res.0.5', 'seurat_clusters', 'cell_type', 'cell_type_own', 'condition'\n",
       "    var: 'features'"
      ]
     },
     "execution_count": 3,
     "metadata": {},
     "output_type": "execute_result"
    }
   ],
   "source": [
    "HLCA"
   ]
  },
  {
   "cell_type": "code",
   "execution_count": 4,
   "id": "9a322648-b2ec-457c-bb90-eebc781ea2b4",
   "metadata": {},
   "outputs": [
    {
     "data": {
      "text/plain": [
       "ENSG00000000003    ENSG00000000003\n",
       "ENSG00000000419    ENSG00000000419\n",
       "ENSG00000000457    ENSG00000000457\n",
       "ENSG00000000938    ENSG00000000938\n",
       "ENSG00000000971    ENSG00000000971\n",
       "                        ...       \n",
       "ENSG00000282511    ENSG00000282511\n",
       "ENSG00000282520    ENSG00000282520\n",
       "ENSG00000282591    ENSG00000282591\n",
       "ENSG00000282599    ENSG00000282599\n",
       "ENSG00000282625    ENSG00000282625\n",
       "Name: features, Length: 31665, dtype: object"
      ]
     },
     "execution_count": 4,
     "metadata": {},
     "output_type": "execute_result"
    }
   ],
   "source": [
    "HLCA.var.features"
   ]
  },
  {
   "cell_type": "code",
   "execution_count": 5,
   "id": "53aa0998-cafe-410e-b935-cd88b929f909",
   "metadata": {},
   "outputs": [],
   "source": [
    "total_read_counts = HLCA.X.sum(axis=1)\n",
    "HLCA.obs['n_counts'] = total_read_counts\n",
    "HLCA.var['ensembl_id'] = HLCA.var.index"
   ]
  },
  {
   "cell_type": "code",
   "execution_count": 6,
   "id": "06929e30-061b-42a8-88ef-c2071f6e9d63",
   "metadata": {},
   "outputs": [],
   "source": [
    "condition_counts = HLCA.obs['condition'].value_counts()\n",
    "cell_type_counts = HLCA.obs['cell_type'].value_counts()"
   ]
  },
  {
   "cell_type": "code",
   "execution_count": 7,
   "id": "65545d33-bbe1-4e3d-9266-a7ed72f29630",
   "metadata": {},
   "outputs": [
    {
     "data": {
      "text/plain": [
       "condition\n",
       "normal    4108\n",
       "HF        2181\n",
       "Name: count, dtype: int64"
      ]
     },
     "execution_count": 7,
     "metadata": {},
     "output_type": "execute_result"
    }
   ],
   "source": [
    "condition_counts"
   ]
  },
  {
   "cell_type": "code",
   "execution_count": 9,
   "id": "d2bf6f7c-5de7-4c67-8547-48d6a1e29c11",
   "metadata": {},
   "outputs": [
    {
     "data": {
      "text/plain": [
       "cell_type\n",
       "1    2746\n",
       "0    1416\n",
       "2     630\n",
       "3     440\n",
       "4     363\n",
       "5     261\n",
       "6     185\n",
       "7     137\n",
       "8     111\n",
       "Name: count, dtype: int64"
      ]
     },
     "execution_count": 9,
     "metadata": {},
     "output_type": "execute_result"
    }
   ],
   "source": [
    "cell_type_counts # 1 CM;  0 EC; 2 FB; 3 ACTA2+FB; 8: 8; 5 SMC; 6 MP; 7:12  ;   8 Mesothelial"
   ]
  },
  {
   "cell_type": "code",
   "execution_count": 10,
   "id": "736f74f0-5221-4d87-8408-772dc5f57966",
   "metadata": {},
   "outputs": [],
   "source": [
    "obs_df = HLCA.obs\n",
    "CM_obs = obs_df.loc[obs_df['cell_type'] == 1]\n",
    "CM= HLCA[CM_obs.index]"
   ]
  },
  {
   "cell_type": "code",
   "execution_count": 11,
   "id": "c01fcf7d-1341-4b46-b722-ef75f8aa80ee",
   "metadata": {},
   "outputs": [
    {
     "data": {
      "text/plain": [
       "View of AnnData object with n_obs × n_vars = 2746 × 31665\n",
       "    obs: 'orig.ident', 'nCount_RNA', 'nFeature_RNA', 'ID', 'Barcode', 'Type', 'Individual', 'Age', 'Gender', 'Dispense.Order', 'X384.Well.Plate.Location', 'Chip.Row.ID', 'Chip.Column.ID', 'Image.ID', 'Barcode.Read.Pairs', 'Distinct.UMIs', 'ERCC.Read.Pairs', 'Trimmed.Read.Pairs', 'NoContam.Read.Pairs', 'Mitochondria.Alignments', 'Mitochondria.Read.Pairs', 'Total.Barcode.Alignments', 'Distinct.Genes.w..Alignments', 'Distinct.Gene.UMI.Combos', 'Aligned', 'Assigned', 'Ambiguity', 'Chimera', 'Duplicate', 'FragementLength', 'MappingQuality', 'MultiMapping', 'NoFeatures', 'Nonjunction', 'Secondary', 'Unmapped', 'mito.perc', 'CellType', 'percent.mt', 'nCount_SCT', 'nFeature_SCT', 'SCT_snn_res.0.5', 'seurat_clusters', 'cell_type', 'cell_type_own', 'condition', 'n_counts'\n",
       "    var: 'features', 'ensembl_id'"
      ]
     },
     "execution_count": 11,
     "metadata": {},
     "output_type": "execute_result"
    }
   ],
   "source": [
    "CM"
   ]
  },
  {
   "cell_type": "code",
   "execution_count": 13,
   "id": "17d86df1-481f-435a-b963-7c2108f8f691",
   "metadata": {},
   "outputs": [],
   "source": [
    "CM.__dict__['_raw'].__dict__['_var'] = CM.__dict__['_raw'].__dict__['_var'].rename(columns={'_index': 'features'})\n",
    "save_path = \"/home/wangxihe/AF_atlas/Data/单细胞分析/HF心房心肌细胞/CM.h5ad\"\n",
    "# 使用 write_h5ad 方法保存 AnnData 对象\n",
    "CM.write_h5ad(save_path)"
   ]
  },
  {
   "cell_type": "code",
   "execution_count": 14,
   "id": "e2bcaae0-89d3-4af3-b2bb-5e42203b57f4",
   "metadata": {},
   "outputs": [],
   "source": [
    "tk = TranscriptomeTokenizer({\"cell_type\": \"cell_type_own\",\"condition\": \"condition\"}, nproc=1)"
   ]
  },
  {
   "cell_type": "code",
   "execution_count": 17,
   "id": "1859b528-d980-4961-aec2-1ba9a055a35d",
   "metadata": {},
   "outputs": [
    {
     "name": "stdout",
     "output_type": "stream",
     "text": [
      "Tokenizing /home/wangxihe/AF_atlas/Data/单细胞分析/HF心房心肌细胞/CM/CM.h5ad\n",
      "/home/wangxihe/AF_atlas/Data/单细胞分析/HF心房心肌细胞/CM/CM.h5ad has no column attribute 'filter_pass'; tokenizing all cells.\n",
      "Creating dataset.\n"
     ]
    },
    {
     "data": {
      "application/vnd.jupyter.widget-view+json": {
       "model_id": "",
       "version_major": 2,
       "version_minor": 0
      },
      "text/plain": [
       "Map:   0%|          | 0/2746 [00:00<?, ? examples/s]"
      ]
     },
     "metadata": {},
     "output_type": "display_data"
    },
    {
     "data": {
      "application/vnd.jupyter.widget-view+json": {
       "model_id": "",
       "version_major": 2,
       "version_minor": 0
      },
      "text/plain": [
       "Map:   0%|          | 0/2746 [00:00<?, ? examples/s]"
      ]
     },
     "metadata": {},
     "output_type": "display_data"
    },
    {
     "data": {
      "application/vnd.jupyter.widget-view+json": {
       "model_id": "",
       "version_major": 2,
       "version_minor": 0
      },
      "text/plain": [
       "Saving the dataset (0/1 shards):   0%|          | 0/2746 [00:00<?, ? examples/s]"
      ]
     },
     "metadata": {},
     "output_type": "display_data"
    }
   ],
   "source": [
    "tk.tokenize_data(\"/home/wangxihe/AF_atlas/Data/单细胞分析/HF心房心肌细胞/CM\", \n",
    "                 \"/home/wangxihe/AF_atlas/Data/单细胞分析/HF心房心肌细胞/CM/\", \n",
    "                 \"CM\",\n",
    "                file_format=\"h5ad\")"
   ]
  }
 ],
 "metadata": {
  "kernelspec": {
   "display_name": "Geneformer",
   "language": "python",
   "name": "geneformer"
  },
  "language_info": {
   "codemirror_mode": {
    "name": "ipython",
    "version": 3
   },
   "file_extension": ".py",
   "mimetype": "text/x-python",
   "name": "python",
   "nbconvert_exporter": "python",
   "pygments_lexer": "ipython3",
   "version": "3.8.17"
  }
 },
 "nbformat": 4,
 "nbformat_minor": 5
}
