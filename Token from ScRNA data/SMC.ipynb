{
 "cells": [
  {
   "cell_type": "code",
   "execution_count": 1,
   "id": "6dcf63ba-4848-4f34-9a8e-f1b1e0220370",
   "metadata": {},
   "outputs": [],
   "source": [
    "import pyarrow # must occur prior to ray import\n",
    "import ray\n",
    "from ray import tune\n",
    "from ray.tune import ExperimentAnalysis\n",
    "from ray.tune.search.hyperopt import HyperOptSearch\n",
    "import datetime\n",
    "import numpy as np\n",
    "import pandas as pd\n",
    "import random\n",
    "import seaborn as sns; sns.set()\n",
    "from collections import Counter\n",
    "from datasets import load_from_disk\n",
    "from scipy.stats import ranksums\n",
    "from sklearn.metrics import accuracy_score, f1_score\n",
    "from transformers import BertForSequenceClassification\n",
    "from transformers import Trainer\n",
    "from transformers.training_args import TrainingArguments\n",
    "\n",
    "from geneformer import DataCollatorForCellClassification\n",
    "from geneformer import TranscriptomeTokenizer\n",
    "import anndata as ad\n",
    "import pandas as pd"
   ]
  },
  {
   "cell_type": "code",
   "execution_count": 2,
   "id": "83443733-31fd-474e-8e52-6f7227418137",
   "metadata": {},
   "outputs": [],
   "source": [
    "file_path = \"/home/wangxihe/AF_atlas/Data/单细胞分析/AF_renamed_ensembl.h5ad\"\n",
    "# 使用 read_h5ad 函数读取文件\n",
    "HLCA = ad.read_h5ad(file_path)"
   ]
  },
  {
   "cell_type": "code",
   "execution_count": 3,
   "id": "3e0d4a6e-4eb4-4190-b167-e90111150a78",
   "metadata": {},
   "outputs": [
    {
     "data": {
      "text/plain": [
       "AnnData object with n_obs × n_vars = 36327 × 23568\n",
       "    obs: 'orig.ident', 'nCount_RNA', 'nFeature_RNA', 'percent.mt', 'condition', 'nCount_SCT', 'nFeature_SCT', 'pANN_0.25_0.21_278', 'DF.classifications_0.25_0.21_278', 'pANN_0.25_0.19_10', 'DF.classifications_0.25_0.19_10', 'pANN_0.25_0.02_89', 'DF.classifications_0.25_0.02_89', 'pANN_0.25_0.03_62', 'DF.classifications_0.25_0.03_62', 'pANN_0.25_0.19_483', 'DF.classifications_0.25_0.19_483', 'pANN_0.25_0.25_276', 'DF.classifications_0.25_0.25_276', 'pANN_0.25_0.01_608', 'DF.classifications_0.25_0.01_608', 'pANN_0.25_0.01_369', 'DF.classifications_0.25_0.01_369', 'pANN_0.25_0.21_187', 'DF.classifications_0.25_0.21_187', 'pANN_0.25_0.005_202', 'DF.classifications_0.25_0.005_202', 'pANN_0.25_0.27_140', 'DF.classifications_0.25_0.27_140', 'pANN_0.25_0.005_257', 'DF.classifications_0.25_0.005_257', 'S.Score', 'G2M.Score', 'Phase', 'old.ident', 'CC.Difference', 'integrated_snn_res.0.5', 'seurat_clusters', 'cell_type'\n",
       "    var: 'features'"
      ]
     },
     "execution_count": 3,
     "metadata": {},
     "output_type": "execute_result"
    }
   ],
   "source": [
    "HLCA"
   ]
  },
  {
   "cell_type": "code",
   "execution_count": 4,
   "id": "9a322648-b2ec-457c-bb90-eebc781ea2b4",
   "metadata": {},
   "outputs": [
    {
     "data": {
      "text/plain": [
       "ENSG00000237613    ENSG00000237613\n",
       "ENSG00000186092    ENSG00000186092\n",
       "ENSG00000284733    ENSG00000284733\n",
       "ENSG00000284662    ENSG00000284662\n",
       "ENSG00000177757    ENSG00000177757\n",
       "                        ...       \n",
       "ENSG00000099725    ENSG00000099725\n",
       "ENSG00000291456    ENSG00000291456\n",
       "ENSG00000237802    ENSG00000237802\n",
       "ENSG00000169763    ENSG00000169763\n",
       "ENSG00000274847    ENSG00000274847\n",
       "Name: features, Length: 23568, dtype: object"
      ]
     },
     "execution_count": 4,
     "metadata": {},
     "output_type": "execute_result"
    }
   ],
   "source": [
    "HLCA.var.features"
   ]
  },
  {
   "cell_type": "code",
   "execution_count": 4,
   "id": "53aa0998-cafe-410e-b935-cd88b929f909",
   "metadata": {},
   "outputs": [],
   "source": [
    "total_read_counts = HLCA.X.sum(axis=1)\n",
    "HLCA.obs['n_counts'] = total_read_counts\n",
    "HLCA.var['ensembl_id'] = HLCA.var.index"
   ]
  },
  {
   "cell_type": "code",
   "execution_count": 5,
   "id": "06929e30-061b-42a8-88ef-c2071f6e9d63",
   "metadata": {},
   "outputs": [],
   "source": [
    "condition_counts = HLCA.obs['condition'].value_counts()\n",
    "cell_type_counts = HLCA.obs['cell_type'].value_counts()"
   ]
  },
  {
   "cell_type": "code",
   "execution_count": 6,
   "id": "65545d33-bbe1-4e3d-9266-a7ed72f29630",
   "metadata": {},
   "outputs": [
    {
     "data": {
      "text/plain": [
       "condition\n",
       "AF      22096\n",
       "Ctrl    14231\n",
       "Name: count, dtype: int64"
      ]
     },
     "execution_count": 6,
     "metadata": {},
     "output_type": "execute_result"
    }
   ],
   "source": [
    "condition_counts"
   ]
  },
  {
   "cell_type": "code",
   "execution_count": 7,
   "id": "d2bf6f7c-5de7-4c67-8547-48d6a1e29c11",
   "metadata": {},
   "outputs": [
    {
     "data": {
      "text/plain": [
       "cell_type\n",
       "5    20152\n",
       "6     4369\n",
       "0     3142\n",
       "7     2235\n",
       "3     2182\n",
       "2     1963\n",
       "1     1903\n",
       "4      381\n",
       "Name: count, dtype: int64"
      ]
     },
     "execution_count": 7,
     "metadata": {},
     "output_type": "execute_result"
    }
   ],
   "source": [
    "cell_type_counts #5: T cell 6:MP  0:EC  7:Neutrophil  3:FB  2:SMC  1:DC  4:B cel1"
   ]
  },
  {
   "cell_type": "code",
   "execution_count": 9,
   "id": "736f74f0-5221-4d87-8408-772dc5f57966",
   "metadata": {},
   "outputs": [],
   "source": [
    "obs_df = HLCA.obs\n",
    "SMC_obs = obs_df.loc[obs_df['cell_type'] == 2]\n",
    "SMC= HLCA[SMC_obs.index]"
   ]
  },
  {
   "cell_type": "code",
   "execution_count": 10,
   "id": "c01fcf7d-1341-4b46-b722-ef75f8aa80ee",
   "metadata": {},
   "outputs": [
    {
     "data": {
      "text/plain": [
       "View of AnnData object with n_obs × n_vars = 1963 × 23568\n",
       "    obs: 'orig.ident', 'nCount_RNA', 'nFeature_RNA', 'percent.mt', 'condition', 'nCount_SCT', 'nFeature_SCT', 'pANN_0.25_0.21_278', 'DF.classifications_0.25_0.21_278', 'pANN_0.25_0.19_10', 'DF.classifications_0.25_0.19_10', 'pANN_0.25_0.02_89', 'DF.classifications_0.25_0.02_89', 'pANN_0.25_0.03_62', 'DF.classifications_0.25_0.03_62', 'pANN_0.25_0.19_483', 'DF.classifications_0.25_0.19_483', 'pANN_0.25_0.25_276', 'DF.classifications_0.25_0.25_276', 'pANN_0.25_0.01_608', 'DF.classifications_0.25_0.01_608', 'pANN_0.25_0.01_369', 'DF.classifications_0.25_0.01_369', 'pANN_0.25_0.21_187', 'DF.classifications_0.25_0.21_187', 'pANN_0.25_0.005_202', 'DF.classifications_0.25_0.005_202', 'pANN_0.25_0.27_140', 'DF.classifications_0.25_0.27_140', 'pANN_0.25_0.005_257', 'DF.classifications_0.25_0.005_257', 'S.Score', 'G2M.Score', 'Phase', 'old.ident', 'CC.Difference', 'integrated_snn_res.0.5', 'seurat_clusters', 'cell_type', 'n_counts'\n",
       "    var: 'features', 'ensembl_id'"
      ]
     },
     "execution_count": 10,
     "metadata": {},
     "output_type": "execute_result"
    }
   ],
   "source": [
    "SMC"
   ]
  },
  {
   "cell_type": "code",
   "execution_count": 12,
   "id": "17d86df1-481f-435a-b963-7c2108f8f691",
   "metadata": {},
   "outputs": [],
   "source": [
    "SMC.__dict__['_raw'].__dict__['_var'] = SMC.__dict__['_raw'].__dict__['_var'].rename(columns={'_index': 'features'})\n",
    "save_path = \"/home/wangxihe/AF_atlas/Data/单细胞分析/SMC/SMC.h5ad\"\n",
    "# 使用 write_h5ad 方法保存 AnnData 对象\n",
    "SMC.write_h5ad(save_path)"
   ]
  },
  {
   "cell_type": "code",
   "execution_count": 13,
   "id": "e2bcaae0-89d3-4af3-b2bb-5e42203b57f4",
   "metadata": {},
   "outputs": [],
   "source": [
    "tk = TranscriptomeTokenizer({\"cell_type\": \"cell_type\",\"condition\": \"condition\"}, nproc=1)"
   ]
  },
  {
   "cell_type": "code",
   "execution_count": 14,
   "id": "1859b528-d980-4961-aec2-1ba9a055a35d",
   "metadata": {},
   "outputs": [
    {
     "name": "stdout",
     "output_type": "stream",
     "text": [
      "Tokenizing /home/wangxihe/AF_atlas/Data/单细胞分析/SMC/SMC.h5ad\n",
      "/home/wangxihe/AF_atlas/Data/单细胞分析/SMC/SMC.h5ad has no column attribute 'filter_pass'; tokenizing all cells.\n",
      "Creating dataset.\n"
     ]
    },
    {
     "data": {
      "application/vnd.jupyter.widget-view+json": {
       "model_id": "",
       "version_major": 2,
       "version_minor": 0
      },
      "text/plain": [
       "Map:   0%|          | 0/1963 [00:00<?, ? examples/s]"
      ]
     },
     "metadata": {},
     "output_type": "display_data"
    },
    {
     "data": {
      "application/vnd.jupyter.widget-view+json": {
       "model_id": "",
       "version_major": 2,
       "version_minor": 0
      },
      "text/plain": [
       "Map:   0%|          | 0/1963 [00:00<?, ? examples/s]"
      ]
     },
     "metadata": {},
     "output_type": "display_data"
    },
    {
     "data": {
      "application/vnd.jupyter.widget-view+json": {
       "model_id": "",
       "version_major": 2,
       "version_minor": 0
      },
      "text/plain": [
       "Saving the dataset (0/1 shards):   0%|          | 0/1963 [00:00<?, ? examples/s]"
      ]
     },
     "metadata": {},
     "output_type": "display_data"
    }
   ],
   "source": [
    "tk.tokenize_data(\"/home/wangxihe/AF_atlas/Data/单细胞分析/SMC\", \n",
    "                 \"/home/wangxihe/AF_atlas/Data/单细胞分析/SMC/\", \n",
    "                 \"SMC\",\n",
    "                file_format=\"h5ad\")"
   ]
  }
 ],
 "metadata": {
  "kernelspec": {
   "display_name": "Geneformer",
   "language": "python",
   "name": "geneformer"
  },
  "language_info": {
   "codemirror_mode": {
    "name": "ipython",
    "version": 3
   },
   "file_extension": ".py",
   "mimetype": "text/x-python",
   "name": "python",
   "nbconvert_exporter": "python",
   "pygments_lexer": "ipython3",
   "version": "3.8.17"
  }
 },
 "nbformat": 4,
 "nbformat_minor": 5
}
