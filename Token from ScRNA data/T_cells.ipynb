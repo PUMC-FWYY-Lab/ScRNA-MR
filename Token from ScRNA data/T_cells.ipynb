{
 "cells": [
  {
   "cell_type": "code",
   "execution_count": 1,
   "id": "6dcf63ba-4848-4f34-9a8e-f1b1e0220370",
   "metadata": {},
   "outputs": [],
   "source": [
    "import pyarrow # must occur prior to ray import\n",
    "import ray\n",
    "from ray import tune\n",
    "from ray.tune import ExperimentAnalysis\n",
    "from ray.tune.search.hyperopt import HyperOptSearch\n",
    "import datetime\n",
    "import numpy as np\n",
    "import pandas as pd\n",
    "import random\n",
    "import seaborn as sns; sns.set()\n",
    "from collections import Counter\n",
    "from datasets import load_from_disk\n",
    "from scipy.stats import ranksums\n",
    "from sklearn.metrics import accuracy_score, f1_score\n",
    "from transformers import BertForSequenceClassification\n",
    "from transformers import Trainer\n",
    "from transformers.training_args import TrainingArguments\n",
    "\n",
    "from geneformer import DataCollatorForCellClassification\n",
    "from geneformer import TranscriptomeTokenizer\n",
    "import anndata as ad\n",
    "import pandas as pd"
   ]
  },
  {
   "cell_type": "code",
   "execution_count": 136,
   "id": "83443733-31fd-474e-8e52-6f7227418137",
   "metadata": {},
   "outputs": [],
   "source": [
    "file_path = \"/home/wangxihe/AF_atlas/Data/单细胞分析/AF_renamed_ensembl.h5ad\"\n",
    "# 使用 read_h5ad 函数读取文件\n",
    "HLCA = ad.read_h5ad(file_path)"
   ]
  },
  {
   "cell_type": "code",
   "execution_count": 113,
   "id": "3e0d4a6e-4eb4-4190-b167-e90111150a78",
   "metadata": {},
   "outputs": [
    {
     "data": {
      "text/plain": [
       "AnnData object with n_obs × n_vars = 36327 × 23568\n",
       "    obs: 'orig.ident', 'nCount_RNA', 'nFeature_RNA', 'percent.mt', 'condition', 'nCount_SCT', 'nFeature_SCT', 'pANN_0.25_0.21_278', 'DF.classifications_0.25_0.21_278', 'pANN_0.25_0.19_10', 'DF.classifications_0.25_0.19_10', 'pANN_0.25_0.02_89', 'DF.classifications_0.25_0.02_89', 'pANN_0.25_0.03_62', 'DF.classifications_0.25_0.03_62', 'pANN_0.25_0.19_483', 'DF.classifications_0.25_0.19_483', 'pANN_0.25_0.25_276', 'DF.classifications_0.25_0.25_276', 'pANN_0.25_0.01_608', 'DF.classifications_0.25_0.01_608', 'pANN_0.25_0.01_369', 'DF.classifications_0.25_0.01_369', 'pANN_0.25_0.21_187', 'DF.classifications_0.25_0.21_187', 'pANN_0.25_0.005_202', 'DF.classifications_0.25_0.005_202', 'pANN_0.25_0.27_140', 'DF.classifications_0.25_0.27_140', 'pANN_0.25_0.005_257', 'DF.classifications_0.25_0.005_257', 'S.Score', 'G2M.Score', 'Phase', 'old.ident', 'CC.Difference', 'integrated_snn_res.0.5', 'seurat_clusters', 'cell_type'\n",
       "    var: 'features'"
      ]
     },
     "execution_count": 113,
     "metadata": {},
     "output_type": "execute_result"
    }
   ],
   "source": [
    "HLCA"
   ]
  },
  {
   "cell_type": "code",
   "execution_count": 114,
   "id": "9a322648-b2ec-457c-bb90-eebc781ea2b4",
   "metadata": {},
   "outputs": [
    {
     "data": {
      "text/plain": [
       "ENSG00000237613    ENSG00000237613\n",
       "ENSG00000186092    ENSG00000186092\n",
       "ENSG00000284733    ENSG00000284733\n",
       "ENSG00000284662    ENSG00000284662\n",
       "ENSG00000177757    ENSG00000177757\n",
       "                        ...       \n",
       "ENSG00000099725    ENSG00000099725\n",
       "ENSG00000291456    ENSG00000291456\n",
       "ENSG00000237802    ENSG00000237802\n",
       "ENSG00000169763    ENSG00000169763\n",
       "ENSG00000274847    ENSG00000274847\n",
       "Name: features, Length: 23568, dtype: object"
      ]
     },
     "execution_count": 114,
     "metadata": {},
     "output_type": "execute_result"
    }
   ],
   "source": [
    "HLCA.var.features"
   ]
  },
  {
   "cell_type": "code",
   "execution_count": 115,
   "id": "53aa0998-cafe-410e-b935-cd88b929f909",
   "metadata": {},
   "outputs": [],
   "source": [
    "total_read_counts = HLCA.X.sum(axis=1)\n",
    "HLCA.obs['n_counts'] = total_read_counts\n",
    "HLCA.var['ensembl_id'] = HLCA.var.index"
   ]
  },
  {
   "cell_type": "code",
   "execution_count": 121,
   "id": "d2565005-73e6-4869-a527-16dad8e991ff",
   "metadata": {},
   "outputs": [
    {
     "data": {
      "text/html": [
       "<div>\n",
       "<style scoped>\n",
       "    .dataframe tbody tr th:only-of-type {\n",
       "        vertical-align: middle;\n",
       "    }\n",
       "\n",
       "    .dataframe tbody tr th {\n",
       "        vertical-align: top;\n",
       "    }\n",
       "\n",
       "    .dataframe thead th {\n",
       "        text-align: right;\n",
       "    }\n",
       "</style>\n",
       "<table border=\"1\" class=\"dataframe\">\n",
       "  <thead>\n",
       "    <tr style=\"text-align: right;\">\n",
       "      <th></th>\n",
       "      <th>features</th>\n",
       "      <th>ensembl_id</th>\n",
       "    </tr>\n",
       "  </thead>\n",
       "  <tbody>\n",
       "    <tr>\n",
       "      <th>ENSG00000237613</th>\n",
       "      <td>ENSG00000237613</td>\n",
       "      <td>ENSG00000237613</td>\n",
       "    </tr>\n",
       "    <tr>\n",
       "      <th>ENSG00000186092</th>\n",
       "      <td>ENSG00000186092</td>\n",
       "      <td>ENSG00000186092</td>\n",
       "    </tr>\n",
       "    <tr>\n",
       "      <th>ENSG00000284733</th>\n",
       "      <td>ENSG00000284733</td>\n",
       "      <td>ENSG00000284733</td>\n",
       "    </tr>\n",
       "    <tr>\n",
       "      <th>ENSG00000284662</th>\n",
       "      <td>ENSG00000284662</td>\n",
       "      <td>ENSG00000284662</td>\n",
       "    </tr>\n",
       "    <tr>\n",
       "      <th>ENSG00000177757</th>\n",
       "      <td>ENSG00000177757</td>\n",
       "      <td>ENSG00000177757</td>\n",
       "    </tr>\n",
       "    <tr>\n",
       "      <th>...</th>\n",
       "      <td>...</td>\n",
       "      <td>...</td>\n",
       "    </tr>\n",
       "    <tr>\n",
       "      <th>ENSG00000099725</th>\n",
       "      <td>ENSG00000099725</td>\n",
       "      <td>ENSG00000099725</td>\n",
       "    </tr>\n",
       "    <tr>\n",
       "      <th>ENSG00000291456</th>\n",
       "      <td>ENSG00000291456</td>\n",
       "      <td>ENSG00000291456</td>\n",
       "    </tr>\n",
       "    <tr>\n",
       "      <th>ENSG00000237802</th>\n",
       "      <td>ENSG00000237802</td>\n",
       "      <td>ENSG00000237802</td>\n",
       "    </tr>\n",
       "    <tr>\n",
       "      <th>ENSG00000169763</th>\n",
       "      <td>ENSG00000169763</td>\n",
       "      <td>ENSG00000169763</td>\n",
       "    </tr>\n",
       "    <tr>\n",
       "      <th>ENSG00000274847</th>\n",
       "      <td>ENSG00000274847</td>\n",
       "      <td>ENSG00000274847</td>\n",
       "    </tr>\n",
       "  </tbody>\n",
       "</table>\n",
       "<p>23568 rows × 2 columns</p>\n",
       "</div>"
      ],
      "text/plain": [
       "                        features       ensembl_id\n",
       "ENSG00000237613  ENSG00000237613  ENSG00000237613\n",
       "ENSG00000186092  ENSG00000186092  ENSG00000186092\n",
       "ENSG00000284733  ENSG00000284733  ENSG00000284733\n",
       "ENSG00000284662  ENSG00000284662  ENSG00000284662\n",
       "ENSG00000177757  ENSG00000177757  ENSG00000177757\n",
       "...                          ...              ...\n",
       "ENSG00000099725  ENSG00000099725  ENSG00000099725\n",
       "ENSG00000291456  ENSG00000291456  ENSG00000291456\n",
       "ENSG00000237802  ENSG00000237802  ENSG00000237802\n",
       "ENSG00000169763  ENSG00000169763  ENSG00000169763\n",
       "ENSG00000274847  ENSG00000274847  ENSG00000274847\n",
       "\n",
       "[23568 rows x 2 columns]"
      ]
     },
     "execution_count": 121,
     "metadata": {},
     "output_type": "execute_result"
    }
   ],
   "source": [
    "HLCA.var"
   ]
  },
  {
   "cell_type": "code",
   "execution_count": 122,
   "id": "06929e30-061b-42a8-88ef-c2071f6e9d63",
   "metadata": {},
   "outputs": [],
   "source": [
    "condition_counts = HLCA.obs['condition'].value_counts()\n",
    "cell_type_counts = HLCA.obs['cell_type'].value_counts()"
   ]
  },
  {
   "cell_type": "code",
   "execution_count": 123,
   "id": "65545d33-bbe1-4e3d-9266-a7ed72f29630",
   "metadata": {},
   "outputs": [
    {
     "data": {
      "text/plain": [
       "condition\n",
       "AF      22096\n",
       "Ctrl    14231\n",
       "Name: count, dtype: int64"
      ]
     },
     "execution_count": 123,
     "metadata": {},
     "output_type": "execute_result"
    }
   ],
   "source": [
    "condition_counts"
   ]
  },
  {
   "cell_type": "code",
   "execution_count": 124,
   "id": "d2bf6f7c-5de7-4c67-8547-48d6a1e29c11",
   "metadata": {},
   "outputs": [
    {
     "data": {
      "text/plain": [
       "cell_type\n",
       "5    20152\n",
       "6     4369\n",
       "0     3142\n",
       "7     2235\n",
       "3     2182\n",
       "2     1963\n",
       "1     1903\n",
       "4      381\n",
       "Name: count, dtype: int64"
      ]
     },
     "execution_count": 124,
     "metadata": {},
     "output_type": "execute_result"
    }
   ],
   "source": [
    "cell_type_counts #5: T cell 6:MP  0:EC  7:Neutrophil  3:FB  2:SMC  1:DC  4:B cel1"
   ]
  },
  {
   "cell_type": "code",
   "execution_count": 125,
   "id": "736f74f0-5221-4d87-8408-772dc5f57966",
   "metadata": {},
   "outputs": [],
   "source": [
    "obs_df = HLCA.obs\n",
    "AF_T_cell_obs = obs_df.loc[obs_df['cell_type'] == 5]\n",
    "AF_T_cell= HLCA[AF_T_cell_obs.index]"
   ]
  },
  {
   "cell_type": "code",
   "execution_count": 143,
   "id": "c01fcf7d-1341-4b46-b722-ef75f8aa80ee",
   "metadata": {},
   "outputs": [
    {
     "data": {
      "text/plain": [
       "AnnData object with n_obs × n_vars = 20152 × 23568\n",
       "    obs: 'orig.ident', 'nCount_RNA', 'nFeature_RNA', 'percent.mt', 'condition', 'nCount_SCT', 'nFeature_SCT', 'pANN_0.25_0.21_278', 'DF.classifications_0.25_0.21_278', 'pANN_0.25_0.19_10', 'DF.classifications_0.25_0.19_10', 'pANN_0.25_0.02_89', 'DF.classifications_0.25_0.02_89', 'pANN_0.25_0.03_62', 'DF.classifications_0.25_0.03_62', 'pANN_0.25_0.19_483', 'DF.classifications_0.25_0.19_483', 'pANN_0.25_0.25_276', 'DF.classifications_0.25_0.25_276', 'pANN_0.25_0.01_608', 'DF.classifications_0.25_0.01_608', 'pANN_0.25_0.01_369', 'DF.classifications_0.25_0.01_369', 'pANN_0.25_0.21_187', 'DF.classifications_0.25_0.21_187', 'pANN_0.25_0.005_202', 'DF.classifications_0.25_0.005_202', 'pANN_0.25_0.27_140', 'DF.classifications_0.25_0.27_140', 'pANN_0.25_0.005_257', 'DF.classifications_0.25_0.005_257', 'S.Score', 'G2M.Score', 'Phase', 'old.ident', 'CC.Difference', 'integrated_snn_res.0.5', 'seurat_clusters', 'cell_type', 'n_counts'\n",
       "    var: 'features', 'ensembl_id'"
      ]
     },
     "execution_count": 143,
     "metadata": {},
     "output_type": "execute_result"
    }
   ],
   "source": [
    "AF_T_cell"
   ]
  },
  {
   "cell_type": "code",
   "execution_count": 141,
   "id": "17d86df1-481f-435a-b963-7c2108f8f691",
   "metadata": {},
   "outputs": [],
   "source": [
    "AF_T_cell.__dict__['_raw'].__dict__['_var'] = AF_T_cell.__dict__['_raw'].__dict__['_var'].rename(columns={'_index': 'features'})\n",
    "save_path = \"/home/wangxihe/AF_atlas/Data/单细胞分析/T_cell/AF_T_cell.h5ad\"\n",
    "# 使用 write_h5ad 方法保存 AnnData 对象\n",
    "AF_T_cell.write_h5ad(save_path)"
   ]
  },
  {
   "cell_type": "code",
   "execution_count": 144,
   "id": "e2bcaae0-89d3-4af3-b2bb-5e42203b57f4",
   "metadata": {},
   "outputs": [],
   "source": [
    "tk = TranscriptomeTokenizer({\"cell_type\": \"cell_type\",\"condition\": \"condition\"}, nproc=1)"
   ]
  },
  {
   "cell_type": "code",
   "execution_count": 145,
   "id": "1859b528-d980-4961-aec2-1ba9a055a35d",
   "metadata": {},
   "outputs": [
    {
     "name": "stdout",
     "output_type": "stream",
     "text": [
      "Tokenizing /home/wangxihe/AF_atlas/Data/单细胞分析/T_cell/AF_T_cell.h5ad\n",
      "/home/wangxihe/AF_atlas/Data/单细胞分析/T_cell/AF_T_cell.h5ad has no column attribute 'filter_pass'; tokenizing all cells.\n",
      "Creating dataset.\n"
     ]
    },
    {
     "data": {
      "application/vnd.jupyter.widget-view+json": {
       "model_id": "",
       "version_major": 2,
       "version_minor": 0
      },
      "text/plain": [
       "Map:   0%|          | 0/20152 [00:00<?, ? examples/s]"
      ]
     },
     "metadata": {},
     "output_type": "display_data"
    },
    {
     "data": {
      "application/vnd.jupyter.widget-view+json": {
       "model_id": "",
       "version_major": 2,
       "version_minor": 0
      },
      "text/plain": [
       "Map:   0%|          | 0/20152 [00:00<?, ? examples/s]"
      ]
     },
     "metadata": {},
     "output_type": "display_data"
    },
    {
     "data": {
      "application/vnd.jupyter.widget-view+json": {
       "model_id": "",
       "version_major": 2,
       "version_minor": 0
      },
      "text/plain": [
       "Saving the dataset (0/1 shards):   0%|          | 0/20152 [00:00<?, ? examples/s]"
      ]
     },
     "metadata": {},
     "output_type": "display_data"
    }
   ],
   "source": [
    "tk.tokenize_data(\"/home/wangxihe/AF_atlas/Data/单细胞分析/T_cell\", \n",
    "                 \"/home/wangxihe/AF_atlas/Data/单细胞分析/T_cell/\", \n",
    "                 \"AF_T_cell\",\n",
    "                file_format=\"h5ad\")"
   ]
  },
  {
   "cell_type": "code",
   "execution_count": 146,
   "id": "85e2c2e3-39bd-43b8-a2ad-c9736ec4c5cd",
   "metadata": {},
   "outputs": [],
   "source": [
    "train_dataset=load_from_disk(\"/home/wangxihe/AF_atlas/Data/单细胞分析/T_cell/AF_T_cell.dataset\")"
   ]
  },
  {
   "cell_type": "code",
   "execution_count": 147,
   "id": "f8ebccbe-1157-44c2-a110-7dccb0a753fa",
   "metadata": {},
   "outputs": [],
   "source": [
    "num_proc=30"
   ]
  },
  {
   "cell_type": "code",
   "execution_count": null,
   "id": "6c71f7b6-9555-42a9-8f28-1912c6e0846b",
   "metadata": {},
   "outputs": [],
   "source": []
  }
 ],
 "metadata": {
  "kernelspec": {
   "display_name": "Geneformer",
   "language": "python",
   "name": "geneformer"
  },
  "language_info": {
   "codemirror_mode": {
    "name": "ipython",
    "version": 3
   },
   "file_extension": ".py",
   "mimetype": "text/x-python",
   "name": "python",
   "nbconvert_exporter": "python",
   "pygments_lexer": "ipython3",
   "version": "3.8.17"
  }
 },
 "nbformat": 4,
 "nbformat_minor": 5
}
